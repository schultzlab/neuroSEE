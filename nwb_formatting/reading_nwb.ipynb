{
 "cells": [
  {
   "cell_type": "code",
   "execution_count": 1,
   "metadata": {},
   "outputs": [
    {
     "name": "stderr",
     "output_type": "stream",
     "text": [
      "/Users/solomia/anaconda3/lib/python3.6/site-packages/h5py/__init__.py:36: FutureWarning: Conversion of the second argument of issubdtype from `float` to `np.floating` is deprecated. In future, it will be treated as `np.float64 == np.dtype(float).type`.\n",
      "  from ._conv import register_converters as _register_converters\n"
     ]
    }
   ],
   "source": [
    "import h5py"
   ]
  },
  {
   "cell_type": "code",
   "execution_count": 63,
   "metadata": {},
   "outputs": [],
   "source": [
    "def get_img_notes(file_path):\n",
    "    file = h5py.File(file_path, 'r')\n",
    "    all_epochs = file['/epochs/']\n",
    "    descriptions = [file['/epochs/' + i + '/description'] for i in all_epochs]\n",
    "    all_text = [text[()] for text in descriptions]\n",
    "#   This gives each text description in list\n",
    "#   And all_text as one string\n",
    "    return descriptions, all_text\n",
    "\n",
    "def get_timeseries(file_path):\n",
    "    file = h5py.File(file_path, 'r')\n",
    "    all_epochs = file['/epochs/']\n",
    "#     behaviour = [file['/epochs/' + i + '/' + i + ' behaviour'] for i in all_epochs]\n",
    "    green_ts = [file['/epochs/' + i + '/' + i + ' green_timeseries'] for i in all_epochs]\n",
    "    red_ts = [file['/epochs/' + i + '/' + i + ' red_timeseries'] for i in all_epochs]\n",
    "    return green_ts, red_ts"
   ]
  },
  {
   "cell_type": "code",
   "execution_count": 64,
   "metadata": {},
   "outputs": [],
   "source": [
    "green_ts, red_ts = get_timeseries('/Users/solomia/Dropbox/created_nwb_files/m33/20180302/m33_20180302_16_54.nwb')"
   ]
  },
  {
   "cell_type": "code",
   "execution_count": 26,
   "metadata": {},
   "outputs": [],
   "source": [
    "descriptions, all_text = get_img_notes('/Users/solomia/Dropbox/created_nwb_files/m33/20180302/m33_20180302_16_54.nwb')"
   ]
  },
  {
   "cell_type": "code",
   "execution_count": 30,
   "metadata": {},
   "outputs": [],
   "source": [
    "# Basic NLP Sentiment package \n",
    "from textblob import TextBlob"
   ]
  },
  {
   "cell_type": "code",
   "execution_count": 33,
   "metadata": {},
   "outputs": [],
   "source": [
    "opinion = TextBlob(descriptions[1][()])\n",
    "opinion.sentiment"
   ]
  },
  {
   "cell_type": "code",
   "execution_count": 38,
   "metadata": {},
   "outputs": [],
   "source": [
    "opinion_2 = TextBlob(descriptions[2][()])\n",
    "opinion_2.sentiment\n",
    "# Need to make a new class that holds the sentiment rating"
   ]
  }
 ],
 "metadata": {
  "kernelspec": {
   "display_name": "Python 3",
   "language": "python",
   "name": "python3"
  },
  "language_info": {
   "codemirror_mode": {
    "name": "ipython",
    "version": 3
   },
   "file_extension": ".py",
   "mimetype": "text/x-python",
   "name": "python",
   "nbconvert_exporter": "python",
   "pygments_lexer": "ipython3",
   "version": "3.6.4"
  }
 },
 "nbformat": 4,
 "nbformat_minor": 2
}
